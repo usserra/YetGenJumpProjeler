{
  "cells": [
    {
      "cell_type": "markdown",
      "metadata": {
        "id": "tsD4YVAe_Te2"
      },
      "source": [
        "# Problem 1\n",
        "Bir sayının 7'ye bölünebilir olup olmadığını kontrol etmek \n",
        "için bir program yazın.\n",
        "\n",
        "İpucu: Mod operatörünü (%) kullanabilirsiniz."
      ]
    },
    {
      "cell_type": "code",
      "execution_count": 14,
      "metadata": {
        "id": "NGjvNwKx_Te7"
      },
      "outputs": [
        {
          "name": "stdout",
          "output_type": "stream",
          "text": [
            "13 sayisi 7ye bolunemez\n",
            "13 sayisinin 7ye bolumunden kalan 6 dir\n"
          ]
        }
      ],
      "source": [
        "sayi = int(input(\"Bir sayi giriniz: \"))\n",
        "cevap = sayi / 7\n",
        "kalan = sayi % 7\n",
        "if sayi % 7 == 0:\n",
        "    print(f\"{sayi} sayisi 7ye bolunebilir\")\n",
        "    print(f\"{sayi} sayisinin 7ye bolumu {cevap} tir \")\n",
        "else:\n",
        "    print(f\"{sayi} sayisi 7ye bolunemez\")\n",
        "    print(f\"{sayi} sayisinin 7ye bolumunden kalan {kalan} dir\")\n",
        "    \n",
        "\n",
        "\n"
      ]
    },
    {
      "cell_type": "markdown",
      "metadata": {
        "id": "Kg3qiBAI_Te8"
      },
      "source": [
        "# Problem 2\n",
        "Kullanıcıdan vize ve final notu isteyin. Girilen vize notunun %40’ı ve \n",
        "girilen finalnotunun ise %60’ı alınarak yıl sonu not ortalaması hesaplanacaktır. \n",
        "\n",
        "Bu not ortalaması eğer 85 ve üzeri ise AA, \n",
        "\n",
        "75 ve 85 arasında ise BA, \n",
        "\n",
        "70 ve 75 arasında ise BB, \n",
        "\n",
        "65 ve 70 arasında ise CB,\n",
        "\n",
        "60 ve 65 arasında ise CC,\n",
        "\n",
        "55 ve 60 arasında ise DC,\n",
        "\n",
        "50 ve 55 arasında ise DD olarak hesaplanacaktır. \n",
        "\n",
        "Bu öğrencinin yıl sonu toplam notu 50’nin altında ise FF ile dersten kalacaktır. \n",
        "\n",
        "Ayrıca öğrencinin final notu 50’nin altında ise direkt FF ile kalacaktır."
      ]
    },
    {
      "cell_type": "code",
      "execution_count": 26,
      "metadata": {
        "id": "MXTtCxI1_Te8"
      },
      "outputs": [
        {
          "name": "stdout",
          "output_type": "stream",
          "text": [
            "Yil sonu ortalamaniz: FF. Bu dersten kaldiniz\n"
          ]
        }
      ],
      "source": [
        "vize = float(input(\"Vize notunuzu girin: \"))\n",
        "final = float(input(\"Final notunuzu girin: \"))\n",
        "sayi1 = vize * 40/100\n",
        "sayi2 = final * 60/100\n",
        "\n",
        "if final < 50:\n",
        "     print(\"Yil sonu ortalamaniz: FF. Bu dersten kaldiniz\")\n",
        "else: \n",
        "    ortalama = sayi1 + sayi2\n",
        "    if ortalama >= 85:\n",
        "     print(\"Yil sonu ortalamaniz: AA\")\n",
        "    if ortalama >= 75 and ortalama <85:\n",
        "        print(\"Yil sonu ortalamaniz: BA\")\n",
        "    if ortalama >= 70 and ortalama <75:\n",
        "        print(\"Yil sonu ortalamaniz: BB\")\n",
        "    if ortalama >= 65 and ortalama <70:\n",
        "        print(\"Yil sonu ortalamaniz: CB\")\n",
        "    if ortalama >= 60 and ortalama <65:\n",
        "        print(\"Yil sonu ortalamaniz: CC\")\n",
        "    if ortalama >= 55 and ortalama <60:\n",
        "        print(\"Yil sonu ortalamaniz: DC\")\n",
        "    if ortalama >= 50 and ortalama <55:\n",
        "        print(\"Yil sonu ortalamaniz: DD\")\n",
        "    if ortalama < 50:\n",
        "        print(\"Yil sonu ortalamaniz: FF. Bu dersten kaldiniz\")\n",
        "\n",
        "\n",
        "    \n"
      ]
    },
    {
      "cell_type": "markdown",
      "metadata": {
        "id": "tAoRYCTC_Te8"
      },
      "source": [
        "# Problem 3\n",
        "İki YetGenli Zirve'de karşılaşıyorlar. Birbirlerini tanımak için sorular soruyorlar. Birbirlerine yaşlarını soruyorlar. Akıllarına bir Python programı yazıp, yaşlarını ve isimlerini giriyorlar. Büyük olanın yaşını ekrana yazdıran programı yazıyorlar. Sende bu iki YetGenli'ye destek olmak ister misin?\n",
        "\n",
        "```\n",
        "Birinci YetGenlinin ismi: Ahmet\n",
        "Birinci YetGenlinin yaşı : 20\n",
        "İkinci YetGenlinin ismi: Mehmet\n",
        "İkinci YetGenlinin yaşı : 25\n",
        "Mehmet'in yaşı daha büyük ve yaşı 25'tir.\n",
        "```"
      ]
    },
    {
      "cell_type": "code",
      "execution_count": 28,
      "metadata": {
        "id": "bPjE8W0i_Te8"
      },
      "outputs": [
        {
          "name": "stdout",
          "output_type": "stream",
          "text": [
            "Mehmet 'in yasi daha buyuk ve yasi 25 dir\n"
          ]
        }
      ],
      "source": [
        "isim1 = input(\"1. YetGen'linin ismi: \")\n",
        "isim2 = input(\"2. YetGen'linin ismi: \")\n",
        "yas1 = int(input(\"1. YetGen'linin yasi: \"))\n",
        "yas2 = int(input(\"2. YetGen'linin yasi: \"))\n",
        "\n",
        "if yas1 > yas2: \n",
        "    print(f\"{isim1} 'in yasi daha buyuk ve yasi {yas1} dir\") \n",
        "if yas2 > yas1:\n",
        "    print(f\"{isim2} 'in yasi daha buyuk ve yasi {yas2} dir\") \n"
      ]
    },
    {
      "cell_type": "markdown",
      "metadata": {
        "id": "zBVv8Tyg_Te9"
      },
      "source": [
        "# Problem 4\n",
        "Pandemi döneminde AVM'lerde ateş ölçümü yapılıyor. AVM'ye giren kişinin ateş ölçümü 37.5 derecenin altında ise girişe izin veriliyor. 37.5 derecenin üstünde ise girişe izin verilmiyor. AVM'ye girişe izin verilip verilmediğini ekrana yazdıran bir program yazın.\n",
        "\n",
        "Program sonunda şöyle bir çıktı elde etmelisiniz:\n",
        "\n",
        "```\n",
        "Ateşiniz 37.5 derece. AVM'ye girebilirsin! Maske takmayı unutma!\n",
        "Ateşiniz 37.6 derece. AVM'ye giremezsin! Hemen evine dön!\n",
        "```"
      ]
    },
    {
      "cell_type": "code",
      "execution_count": 32,
      "metadata": {
        "id": "TSAXs8et_Te9"
      },
      "outputs": [
        {
          "name": "stdout",
          "output_type": "stream",
          "text": [
            "Ateşin 77.0 derece. AVM'ye giremezsin! Hemen evine dön!\n"
          ]
        }
      ],
      "source": [
        "ates = float(input(\"Ates kac derece?: \"))\n",
        "if ates <= 37.5:\n",
        "    print(f\"Ateşin {ates} derece. AVM'ye girebilirsin! Maske takmayı unutma!\")\n",
        "if ates > 37.5:\n",
        "    print(f\"Ateşin {ates} derece. AVM'ye giremezsin! Hemen evine dön!\")\n"
      ]
    },
    {
      "cell_type": "markdown",
      "metadata": {
        "id": "6AEkZrDt_Te9"
      },
      "source": [
        "# Problem 5\n",
        "YetGen bir spor kulübüyle sponsorluk anlaşması yapıyor. Kulüp, sponsorluk anlaşmasına göre her YetGen liderinin beden kitle indeksini hesaplamak istiyor. Spor kulübü, beden kitle indeksini hesaplamak için YetGen Jump Python liderlerinden Berkcan ve Ahmet'i arıyor. Berkcan ve Ahmet, kulübe yardımcı olmak için bir Python programı yazıyorlar. Sende bu iki YetGen liderine destek olmak ister misin?\n",
        "\n",
        "Kullanıcıdan alınan boy ve kilo değerlerine göre beden kitle indeksini hesaplayın ve şu kurallara göre ekrana şu yazıları yazdırın.\n",
        "\n",
        "\n",
        "Beden Kitle İndeksi, kişinin ağırlığının (kg olarak) boyunun karesine (m olarak) bölünmesiyle hesaplanır.\n",
        "\n",
        "\n",
        "```\n",
        " BKİ 18.5'un altındaysa -------> Zayıf\n",
        "\n",
        " BKİ 18.5 ile 25 arasındaysa ------> Normal\n",
        "\n",
        " BKİ 25 ile 30 arasındaysa --------> Fazla Kilolu\n",
        "\n",
        " BKİ 30'un üstündeyse -------------> Obez\n",
        "```\n",
        "\n"
      ]
    },
    {
      "cell_type": "code",
      "execution_count": 6,
      "metadata": {
        "id": "t-XPI_u0_Te-"
      },
      "outputs": [
        {
          "name": "stdout",
          "output_type": "stream",
          "text": [
            "Beden kitle indeksiniz 15.589569160997735, zayifsiniz\n"
          ]
        }
      ],
      "source": [
        "boy = float(input(\"Boyunuzu metre cinsinden giriniz: \"))\n",
        "kilo = float(input(\"Kilonuzu kilogram cinsinden giriniz: \"))\n",
        "bedenKitleIndeksi = kilo / (boy ** 2)\n",
        "\n",
        "if bedenKitleIndeksi < 18.5: \n",
        "    print(f\"Beden kitle indeksiniz {bedenKitleIndeksi}, zayifsiniz\")\n",
        "if bedenKitleIndeksi >= 18.5 and bedenKitleIndeksi < 25:\n",
        "    print(f\"Beden kitle indeksiniz {bedenKitleIndeksi}, normalsiniz\")\n",
        "if bedenKitleIndeksi >= 25 and bedenKitleIndeksi <30:\n",
        "    print(f\"Beden kitle indeksiniz {bedenKitleIndeksi}, fazla kilolusunuz\")\n",
        "if bedenKitleIndeksi >= 30:\n",
        "    print(f\"Beden kitle indeksiniz {bedenKitleIndeksi}, obezsiniz\")\n"
      ]
    },
    {
      "cell_type": "markdown",
      "metadata": {
        "id": "oFsvQyaO_Te-"
      },
      "source": [
        "# Problem 6\n",
        "Kullanıcıdan isim, yaş ve eğitim bilgilerini isteyip ehliyet alabilme  durumunu kontrol ediniz. \n",
        "\n",
        "Ehliyet alma koşulu en az 18 yaşında ve eğitim durumu lise ya da üniversite olmalıdır. "
      ]
    },
    {
      "cell_type": "code",
      "execution_count": 37,
      "metadata": {},
      "outputs": [
        {
          "name": "stdout",
          "output_type": "stream",
          "text": [
            "Serra, yasiniz ve egitim durumunuz ehliyet almak icin uygundur.\n"
          ]
        }
      ],
      "source": [
        "isim = input(\"Isminiz: \")\n",
        "yas = int(input(\"Yasiniz: \"))\n",
        "egitimDurumu = input(\"Egitim durumunuz (ilkokul/lise/universite): \")\n",
        "\n",
        "if yas >= 18 and (egitimDurumu == \"lise\" or egitimDurumu == \"universite\"):\n",
        "    print(f\"{isim}, yasiniz ve egitim durumunuz ehliyet almak icin uygundur.\")\n",
        "\n",
        "else:\n",
        "    print(f\"{isim}, yasiniz veya egitim durumunuz ehliyet almak icin uygun degildir.\")\n",
        "\n",
        "\n"
      ]
    },
    {
      "cell_type": "markdown",
      "metadata": {
        "id": "eUkxVSAE_Te_"
      },
      "source": [
        "# Problem 7\n",
        "Bir yılın artık yıl olup olmadığını kontrol etmek için bir program yazın. \n",
        "Artık yıl kuralı:\n",
        "\n",
        "a) Eğer yılın son iki basamağı (00) ile bitmiyor ve yalnızca 4'e tam bölünüyorsa artık yıldır. Ya da, \n",
        "\n",
        "b) Eğer yıl 400'e tam bölünüyorsa artık yıldır.\n",
        "\n",
        "**Örneğin**\n",
        "```\n",
        "2017 artık yıl değildir.\n",
        "1900 artık yıl değildir\n",
        "2012 artık yıldır.\n",
        "2000 artık yıldır.\n",
        "```"
      ]
    },
    {
      "cell_type": "code",
      "execution_count": 132,
      "metadata": {
        "id": "4uWh8qUL_Te_"
      },
      "outputs": [
        {
          "name": "stdout",
          "output_type": "stream",
          "text": [
            "Sectiginiz yil olan 2000 artik yildir\n"
          ]
        }
      ],
      "source": [
        "yil = int(input(\"Bir yil giriniz: \"))\n",
        "\n",
        "\n",
        "if yil % 400 == 0:\n",
        "    print(f\"Sectiginiz yil olan {yil} artik yildir\") \n",
        "\n",
        "elif yil % 100 != 0 and yil % 4 == 0:\n",
        "    print(f\"Sectiginiz yil olan {yil} artik yildir\") \n",
        "\n",
        "else:\n",
        "    print(f\"Sectiginiz yil olan {yil} artik yil degildir\")\n"
      ]
    }
  ],
  "metadata": {
    "colab": {
      "provenance": []
    },
    "kernelspec": {
      "display_name": "Python 3",
      "language": "python",
      "name": "python3"
    },
    "language_info": {
      "codemirror_mode": {
        "name": "ipython",
        "version": 3
      },
      "file_extension": ".py",
      "mimetype": "text/x-python",
      "name": "python",
      "nbconvert_exporter": "python",
      "pygments_lexer": "ipython3",
      "version": "3.11.1"
    },
    "orig_nbformat": 4,
    "vscode": {
      "interpreter": {
        "hash": "aee8b7b246df8f9039afb4144a1f6fd8d2ca17a180786b69acc140d282b71a49"
      }
    }
  },
  "nbformat": 4,
  "nbformat_minor": 0
}
