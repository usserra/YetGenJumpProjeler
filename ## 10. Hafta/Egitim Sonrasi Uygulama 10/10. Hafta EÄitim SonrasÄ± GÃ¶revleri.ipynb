{
 "cells": [
  {
   "attachments": {},
   "cell_type": "markdown",
   "metadata": {},
   "source": [
    "# Problem 1 "
   ]
  },
  {
   "cell_type": "code",
   "execution_count": 7,
   "metadata": {},
   "outputs": [
    {
     "name": "stdout",
     "output_type": "stream",
     "text": [
      "[1 3 4 2 7 8 4]\n",
      "[1 2 3 4 4 7 8]\n"
     ]
    }
   ],
   "source": [
    "import numpy as np\n",
    "\n",
    "new = np.array([1,3,4,2,7,8,4]) # 2 - 5 elemanlı bir numpy array oluşturun\n",
    "print(new)\n",
    "new.sort()\n",
    "print(new) # 3 - Oluşturduğunuz arrayi küçükten büyüğe sıralayın.\n"
   ]
  },
  {
   "attachments": {},
   "cell_type": "markdown",
   "metadata": {},
   "source": [
    "# Problem 2"
   ]
  },
  {
   "cell_type": "code",
   "execution_count": 42,
   "metadata": {},
   "outputs": [
    {
     "name": "stdout",
     "output_type": "stream",
     "text": [
      "[10 15 30 45 60]\n",
      "[ 5  6  7  8  9 10 11 12 13 14]\n",
      "[50 55 60 65 70 75 80 85 90 95]\n",
      "[0. 0. 0. 0. 0. 0. 0. 0. 0. 0.]\n",
      "[1. 1. 1. 1. 1. 1. 1. 1. 1. 1.]\n",
      "[  0.  25.  50.  75. 100.]\n",
      "[25 12 28 28 11]\n",
      "[-0.83916434 -0.49099232  0.71016506 -0.4905925   0.22874705  0.10996269\n",
      "  0.11373283  0.81658069  0.1360025  -0.40601889]\n",
      "[[30 47 40 27 35]\n",
      " [34 26 27 34 34]\n",
      " [20 32 32 21 13]]\n",
      "Satir toplami : [179 155 118]\n",
      "Sutun toplami : [ 84 105  99  82  82]\n",
      "En buyuk sayi: 47\n",
      "En kucuk sayi: 13\n",
      "Ortalama: 30.133333333333333\n",
      "En buyuk deger indexi:  1\n",
      "[[10 11 12 13 14]\n",
      " [15 16 17 18 19]]\n",
      "---\n",
      "[[10 11 12 13 14]\n",
      " [15 16 17 18 19]]\n",
      "[[15 16 17 18 19]\n",
      " [10 11 12 13 14]]\n",
      "[10 11 12 13 14]\n",
      "17\n",
      "[10 15]\n",
      "[[100 121 144 169 196]\n",
      " [225 256 289 324 361]]\n",
      "[ 2  4  6  8 10 12 14 16 18 20 22 24 26 28 30 32 34 36 38 40 42 44 46 48]\n"
     ]
    }
   ],
   "source": [
    "a = np.array([10,15,30,45,60]) # 1- (10,15,30,45,60) değerlerine sahip numpy dizisi oluşturunuz.\n",
    "print(a)\n",
    "\n",
    "b = np.arange(5,15) # 2- (5-15) arasındaki sayılarla numpy dizisi oluşturunuz.\n",
    "print(b) \n",
    "\n",
    "c = np.arange(50,100,5) # 3- (50-100) arasında 5'er 5'er artarak numpy dizisi oluşturunuz.\n",
    "print(c)\n",
    "\n",
    "d = np.zeros(10) # 4- 10 elemanlı sıfırlardan oluşan bir dizi oluşturunuz.\n",
    "print(d)\n",
    "\n",
    "e = np.ones(10) # 5- 10 elemanlı birlerden oluşan bir dizi oluşturunuz.\n",
    "print(e)\n",
    "\n",
    "f = np.linspace(0,100,5) # 6- (0-100) arasında eşit aralıklı 5 sayı üretin.\n",
    "print(f)\n",
    "\n",
    "g = np.random.randint(10,30,5) # 7- (10-30) arasında rastgele 5 tane tamsayı üretin.\n",
    "print(g)\n",
    "\n",
    "h = np.random.uniform(-1,1,10) # 8- [-1 ile 1] arasında 10 adet sayı üretin.\n",
    "print(h)\n",
    "\n",
    "i = np.random.randint(10,50,(3,5))\n",
    " # 9- (3x5) boyutlarında (10-50) arasında rastgele bir matris oluşturunuz.\n",
    "print(i)\n",
    "\n",
    "satirToplam = i.sum(axis = 1) # 10- Üretilen matrisin satır ve sütun sayıları toplamlarını hesaplayınız ?\n",
    "sutunToplam = i.sum(axis = 0)\n",
    "print(\"Satir toplami :\" , satirToplam)\n",
    "print(\"Sutun toplami :\" , sutunToplam)\n",
    "\n",
    "print(\"En buyuk sayi:\" , i.max()) # 11- Üretilen matrisin en büyük, en küçük ve ortalaması nedir ?\n",
    "print('En kucuk sayi:', i.min())\n",
    "print(\"Ortalama:\", i.mean())\n",
    "\n",
    "\n",
    "print(\"En buyuk deger indexi: \" , np.argmax(i)) # 12- Üretilen matrisin en büyük değerinin indeksi kaçtır ?\n",
    "\n",
    "\n",
    "j = np.arange(10, 20) # 13- (10-20) arasındaki sayıları içeren dizinin ilk 3 elemanını seçiniz.\n",
    "jj = j.reshape(2,5)\n",
    "print(jj)\n",
    "print(\"---\")\n",
    "print(jj[:3])\n",
    "\n",
    "print(jj[::-1])# 14- Üretilen dizinin elemanlarını tersten yazdırın.\n",
    "\n",
    "\n",
    "print(jj[0,:]) # 15- Üretilen matrisin ilk satırını seçiniz.\n",
    "\n",
    "\n",
    "print(jj[1,2]) # 16- Üretilen matrisin 2.satır 3.sütundaki elemanı hangisidir ?\n",
    "\n",
    "\n",
    "print(jj[:,0])# 17- Üretilen matrisin tüm satırlardaki ilk elemanı seçiniz.\n",
    "\n",
    "\n",
    "print(np.power(jj,2))# 18- Üretilen matrisin her bir elemanının karesini alınız.\n",
    "\n",
    "\n",
    "k = np.arange(-50, 50, 2) \n",
    "print(k[k>0]) # 19- Üretilen matris elemanlarının hangisi pozitif çift sayıdır ? Aralığı (-50,+50) arasında yapınız.\n"
   ]
  }
 ],
 "metadata": {
  "kernelspec": {
   "display_name": "Python 3",
   "language": "python",
   "name": "python3"
  },
  "language_info": {
   "codemirror_mode": {
    "name": "ipython",
    "version": 3
   },
   "file_extension": ".py",
   "mimetype": "text/x-python",
   "name": "python",
   "nbconvert_exporter": "python",
   "pygments_lexer": "ipython3",
   "version": "3.11.1"
  },
  "orig_nbformat": 4,
  "vscode": {
   "interpreter": {
    "hash": "5026d2d6e7aaaaba093def813beadff083d8733e4a511af01735cbabd156995d"
   }
  }
 },
 "nbformat": 4,
 "nbformat_minor": 2
}
