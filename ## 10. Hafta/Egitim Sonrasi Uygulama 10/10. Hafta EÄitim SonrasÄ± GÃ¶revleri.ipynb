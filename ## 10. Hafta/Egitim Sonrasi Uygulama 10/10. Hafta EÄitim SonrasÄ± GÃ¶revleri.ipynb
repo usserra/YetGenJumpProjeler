{
 "cells": [
  {
   "attachments": {},
   "cell_type": "markdown",
   "metadata": {},
   "source": [
    "# Problem 1 "
   ]
  },
  {
   "cell_type": "code",
   "execution_count": 7,
   "metadata": {},
   "outputs": [
    {
     "name": "stdout",
     "output_type": "stream",
     "text": [
      "[1 3 4 2 7 8 4]\n",
      "[1 2 3 4 4 7 8]\n"
     ]
    }
   ],
   "source": [
    "import numpy as np\n",
    "\n",
    "new = np.array([1,3,4,2,7,8,4]) # 2 - 5 elemanlı bir numpy array oluşturun\n",
    "print(new)\n",
    "new.sort()\n",
    "print(new) # 3 - Oluşturduğunuz arrayi küçükten büyüğe sıralayın.\n"
   ]
  },
  {
   "attachments": {},
   "cell_type": "markdown",
   "metadata": {},
   "source": [
    "# Problem 2"
   ]
  },
  {
   "cell_type": "code",
   "execution_count": 12,
   "metadata": {},
   "outputs": [
    {
     "ename": "SyntaxError",
     "evalue": "invalid syntax (1452670334.py, line 26)",
     "output_type": "error",
     "traceback": [
      "\u001b[0;36m  Cell \u001b[0;32mIn [12], line 26\u001b[0;36m\u001b[0m\n\u001b[0;31m    x = .reshape(3,5) # 9- (3x5) boyutlarında (10-50) arasında rastgele bir matris oluşturunuz.\u001b[0m\n\u001b[0m        ^\u001b[0m\n\u001b[0;31mSyntaxError\u001b[0m\u001b[0;31m:\u001b[0m invalid syntax\n"
     ]
    }
   ],
   "source": [
    "a = np.array([10,15,30,45,60]) # 1- (10,15,30,45,60) değerlerine sahip numpy dizisi oluşturunuz.\n",
    "print(a)\n",
    "\n",
    "b = np.arange(5,15) # 2- (5-15) arasındaki sayılarla numpy dizisi oluşturunuz.\n",
    "print(b) \n",
    "\n",
    "c = np.arange(50,100,5) # 3- (50-100) arasında 5'er 5'er artarak numpy dizisi oluşturunuz.\n",
    "print(c)\n",
    "\n",
    "d = np.zeros(10) # 4- 10 elemanlı sıfırlardan oluşan bir dizi oluşturunuz.\n",
    "print(d)\n",
    "\n",
    "e = np.ones(10) # 5- 10 elemanlı birlerden oluşan bir dizi oluşturunuz.\n",
    "print(e)\n",
    "\n",
    "f = np.linspace(0,100,5) # 6- (0-100) arasında eşit aralıklı 5 sayı üretin.\n",
    "print(f)\n",
    "\n",
    "g = np.random.randint(10,30,5) # 7- (10-30) arasında rastgele 5 tane tamsayı üretin.\n",
    "print(g)\n",
    "\n",
    "h = np.random.uniform(-1,1,10) # 8- [-1 ile 1] arasında 10 adet sayı üretin.\n",
    "print(h)\n",
    "\n",
    "i = np.random.randint(10,50,(3,5))\n",
    " # 9- (3x5) boyutlarında (10-50) arasında rastgele bir matris oluşturunuz.\n",
    "print(i)\n",
    "\n",
    "satirToplam = i.sum(axis = 1) # 10- Üretilen matrisin satır ve sütun sayıları toplamlarını hesaplayınız ?\n",
    "sutunToplam = i.sum(axis = 0)\n",
    "print(\"Satir toplami :\" , satirToplam)\n",
    "print(\"Sutun toplami :\" , sutunToplam)\n",
    "\n",
    "print(\"En buyuk sayi:\" , i.max()) # 11- Üretilen matrisin en büyük, en küçük ve ortalaması nedir ?\n",
    "print('En kucuk sayi:', i.min())\n",
    "print(\"ortalama:\", i.mean())\n",
    "\n",
    "# 12- Üretilen matrisin en büyük değerinin indeksi kaçtır ?\n",
    "\n",
    "\n",
    "# 13- (10-20) arasındaki sayıları içeren dizinin ilk 3 elemanını seçiniz.\n",
    "\n",
    "\n",
    "# 14- Üretilen dizinin elemanlarını tersten yazdırın.\n",
    "\n",
    "\n",
    "# 15- Üretilen matrisin ilk satırını seçiniz.\n",
    "\n",
    "\n",
    "# 16- Üretilen matrisin 2.satır 3.sütundaki elemanı hangisidir ?\n",
    "\n",
    "\n",
    "# 17- Üretilen matrisin tüm satırlardaki ilk elemanı seçiniz.\n",
    "\n",
    "\n",
    "# 18- Üretilen matrisin her bir elemanının karesini alınız.\n",
    "\n",
    "\n",
    "# 19- Üretilen matris elemanlarının hangisi pozitif çift sayıdır ? Aralığı (-50,+50) arasında yapınız.\n"
   ]
  }
 ],
 "metadata": {
  "kernelspec": {
   "display_name": "Python 3",
   "language": "python",
   "name": "python3"
  },
  "language_info": {
   "codemirror_mode": {
    "name": "ipython",
    "version": 3
   },
   "file_extension": ".py",
   "mimetype": "text/x-python",
   "name": "python",
   "nbconvert_exporter": "python",
   "pygments_lexer": "ipython3",
   "version": "3.11.1"
  },
  "orig_nbformat": 4,
  "vscode": {
   "interpreter": {
    "hash": "5026d2d6e7aaaaba093def813beadff083d8733e4a511af01735cbabd156995d"
   }
  }
 },
 "nbformat": 4,
 "nbformat_minor": 2
}
