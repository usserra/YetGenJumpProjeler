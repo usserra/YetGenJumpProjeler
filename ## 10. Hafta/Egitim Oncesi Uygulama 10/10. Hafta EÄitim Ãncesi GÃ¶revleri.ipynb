{
 "cells": [
  {
   "attachments": {},
   "cell_type": "markdown",
   "metadata": {},
   "source": [
    "# Problem 1"
   ]
  },
  {
   "cell_type": "code",
   "execution_count": 15,
   "metadata": {},
   "outputs": [
    {
     "name": "stdout",
     "output_type": "stream",
     "text": [
      "[7 7 2 8 9]\n",
      "1\n",
      "[[7]\n",
      " [7]\n",
      " [2]\n",
      " [8]\n",
      " [9]]\n",
      "(5,)\n"
     ]
    }
   ],
   "source": [
    "import numpy as np # 1 - numpy kütüphanesini import edin\n",
    "\n",
    "a = np.random.randint(0,10,5) # 2 - 0 ile 10 arasında 5 sayıdan oluşan matris üretin\n",
    "print(a)\n",
    "\n",
    "print(a.ndim)# 3 - matris'in boyutunu öğrenin\n",
    "\n",
    "print(a.reshape([5,1]))# 4 - matris'i yeniden boyutlandırın\n",
    "\n",
    "print(a.shape) # 5 - matris'in boyut sayısını öğrenin\n"
   ]
  },
  {
   "attachments": {},
   "cell_type": "markdown",
   "metadata": {},
   "source": [
    "# Problem 2"
   ]
  },
  {
   "cell_type": "code",
   "execution_count": 22,
   "metadata": {},
   "outputs": [
    {
     "name": "stdout",
     "output_type": "stream",
     "text": [
      "[1 3 5 7 9]\n",
      "[array([1, 3]), array([5, 7]), array([9])]\n",
      "[1 3 5 7 9 1 3 5 7 9]\n"
     ]
    }
   ],
   "source": [
    "b = np.array([1,3,5,7,9])  # 1 - 0 ile 10 arasında bulunan tek sayılardan oluşan matris üretin\n",
    "print(b)\n",
    "print(np.split(b, [2,4]))# 2 - Oluşturduğunuz matrisi parçalayın\n",
    "\n",
    "print(np.concatenate([b,b]))# 3 - Parçalanmış matrisleri birleştirin\n"
   ]
  },
  {
   "attachments": {},
   "cell_type": "markdown",
   "metadata": {},
   "source": [
    "# Problem 3"
   ]
  },
  {
   "cell_type": "code",
   "execution_count": 38,
   "metadata": {},
   "outputs": [
    {
     "name": "stdout",
     "output_type": "stream",
     "text": [
      "[21 91  5 95 97 71 99 67 33 81]\n",
      "1\n",
      "(10,)\n",
      "10\n",
      "int64\n"
     ]
    }
   ],
   "source": [
    "c = np.arange(5,101,2)\n",
    "x = np.random.choice(c, 10)\n",
    " # 1 - 5 ile 100 arasında ikişer ikişer atlayarak rastgele 10 sayıdan oluşan matris üretin\n",
    "print(x)\n",
    "\n",
    "print(x.ndim)\n",
    "print(x.shape)\n",
    "print(x.size)\n",
    "print(x.dtype)# 2 - matris'in özelliklerini inceleyin\n"
   ]
  }
 ],
 "metadata": {
  "kernelspec": {
   "display_name": "Python 3",
   "language": "python",
   "name": "python3"
  },
  "language_info": {
   "codemirror_mode": {
    "name": "ipython",
    "version": 3
   },
   "file_extension": ".py",
   "mimetype": "text/x-python",
   "name": "python",
   "nbconvert_exporter": "python",
   "pygments_lexer": "ipython3",
   "version": "3.11.1"
  },
  "orig_nbformat": 4,
  "vscode": {
   "interpreter": {
    "hash": "5026d2d6e7aaaaba093def813beadff083d8733e4a511af01735cbabd156995d"
   }
  }
 },
 "nbformat": 4,
 "nbformat_minor": 2
}
