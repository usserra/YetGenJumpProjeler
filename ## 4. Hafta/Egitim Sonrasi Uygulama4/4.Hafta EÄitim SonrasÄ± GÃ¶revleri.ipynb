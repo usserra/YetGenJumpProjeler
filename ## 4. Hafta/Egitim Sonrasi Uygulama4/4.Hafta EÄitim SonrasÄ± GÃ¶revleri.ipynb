{
 "cells": [
  {
   "cell_type": "markdown",
   "metadata": {},
   "source": [
    "# Problem 1\n",
    "`ogrenciler` adında bir sözlük oluşturunuz. Kullanıcıdan döngü yardımıyla 3 öğrenci için veri girmesini isteyerek öğrencilerin sırasıyla okul numarası, isim, soy isim, telefon numarası ve doğum tarihi bilgilerini alınız. Aldığınız öğrenci bilgilerini yine aynı döngü yardımıyla `ogrenciler` adındaki sözlükte saklayınız. Daha sonra öğrenci bilgilerinin bulunduğu sözlük yapısını ekrana bastırınız.\n",
    "\n"
   ]
  },
  {
   "cell_type": "code",
   "execution_count": 5,
   "metadata": {},
   "outputs": [
    {
     "name": "stdout",
     "output_type": "stream",
     "text": [
      "1 tane ogrenci bilgisi alindi\n",
      "2 tane ogrenci bilgisi alindi\n",
      "{1: {'No': 'hfhfh', 'Isim': 'fhfhhf', 'Soyisim': 'fhfhfh', 'Telefon': 'fhfhf', 'DogumTarihi': 'fhhffh'}, 2: {'No': 'fhfhfhf', 'Isim': 'fgfgfggf', 'Soyisim': 'fgfghfg', 'Telefon': 'fghfhfh', 'DogumTarihi': 'fhfhhfh'}}\n"
     ]
    }
   ],
   "source": [
    "ogrenciler = {}\n",
    "\n",
    "for x in range(1,3): \n",
    "\n",
    "    okulNumarasi = (input(\"Ogrenci okul numarasi: \"))\n",
    "    isim = input(\"ogrenci isim: \")\n",
    "    soyIsim = input(\"Ogrenci soy isim: \")\n",
    "    telNo = (input(\"Ogrenci tel no: \"))\n",
    "    dogumTar = input(\"Ogrenci dogum tarihi: \")\n",
    "    print(f\"{x} tane ogrenci bilgisi alindi\")\n",
    "    ogrenciler[x] = {\n",
    "        \"No\": okulNumarasi,\n",
    "        \"Isim\": isim,\n",
    "        \"Soyisim\": soyIsim,\n",
    "        \"Telefon\": telNo,\n",
    "        \"DogumTarihi\": dogumTar\n",
    "    }\n",
    "\n",
    "print(ogrenciler)"
   ]
  },
  {
   "cell_type": "code",
   "execution_count": 3,
   "metadata": {},
   "outputs": [
    {
     "name": "stdout",
     "output_type": "stream",
     "text": [
      "{2: ('serra', 'us', 12345678, '17.04.2004'), 11: ('ali', 'deniz', 98765, '19.03.2003'), 45: ('mehmet', 'gelir', 3648254, '08.08.2002')}\n"
     ]
    }
   ],
   "source": [
    "ogrenciler = {}\n",
    "\n",
    "for x in range(3): \n",
    "\n",
    "    okulNumarasi = int(input(\"Ogrenci okul numarasi: \"))\n",
    "    isim = input(\"ogrenci isim: \")\n",
    "    soyIsim = input(\"Ogrenci soy isim: \")\n",
    "    telNo = int(input(\"Ogrenci tel no: \"))\n",
    "    dogumTar = input(\"Ogrenci dogum tarihi: \")\n",
    "\n",
    "    ogrenciler[okulNumarasi] = isim, soyIsim, telNo, dogumTar\n",
    "\n",
    "print(ogrenciler)\n",
    "    \n"
   ]
  },
  {
   "cell_type": "markdown",
   "metadata": {},
   "source": [
    "# Problem 2\n",
    "\n",
    "### a - Biraz ısınarak başlayalım!\n",
    "\n",
    "```\n",
    "numbers = [5,10,10,15,15,15,20,20,20,20]\n",
    "```\n",
    "\n",
    "Yukarıda `numbers` adında 10 elemanlı bir liste verilmiştir. Bu listenin her elemanını kontrol eden ve tekrar eden elemanları bir kez olacak şekilde başka bir listeye kopyalayan bir program yazınız. Son olarak oluşturduğunuz listeyi ekrana bastırınız.\n",
    "\n",
    "\n",
    "\n",
    "\n",
    "```\n",
    ">Output\n",
    "[5, 10, 15, 20]\n",
    "```\n"
   ]
  },
  {
   "cell_type": "code",
   "execution_count": 6,
   "metadata": {},
   "outputs": [
    {
     "name": "stdout",
     "output_type": "stream",
     "text": [
      "[5, 10, 15, 20]\n"
     ]
    }
   ],
   "source": [
    "numbers = [5,10,10,15,15,15,20,20,20,20]\n",
    "unique = []\n",
    "for number in numbers:\n",
    "    if number in unique:\n",
    "        continue\n",
    "    else:\n",
    "        unique.append(number)\n",
    "print(unique)"
   ]
  },
  {
   "cell_type": "code",
   "execution_count": 3,
   "metadata": {},
   "outputs": [
    {
     "name": "stdout",
     "output_type": "stream",
     "text": [
      "[5, 10, 15, 20]\n"
     ]
    }
   ],
   "source": [
    "numbers = [5,10,10,15,15,15,20,20,20,20]\n",
    "\n",
    "repeatNumbers = []\n",
    "\n",
    "for x in range(21):\n",
    "    if x in numbers:\n",
    "        repeatNumbers.append(x)\n",
    "print(repeatNumbers)\n",
    "        "
   ]
  },
  {
   "cell_type": "code",
   "execution_count": 14,
   "metadata": {},
   "outputs": [
    {
     "name": "stdout",
     "output_type": "stream",
     "text": [
      "[10, 20, 5, 15]\n"
     ]
    }
   ],
   "source": [
    "numbers = [5,10,10,15,15,15,20,20,20,20]\n",
    "res = [*set(numbers)]\n",
    "print(res)\n",
    "\n",
    "\n",
    "    "
   ]
  },
  {
   "cell_type": "markdown",
   "metadata": {},
   "source": [
    "### 🌶️ b) Hadi işi biraz daha zorlaştıralım! \n",
    "\n",
    "\n",
    "Şimdiyse senden `numbers` isimli listedeki tekrar eden elemanları `repeatNumbers` adındaki listeye; tekrar etmeyen elemanları `uniqueNumbers`adındaki listeye kopyalayan yazmanı ve listeleri ekrana bastırmanı bekliyoruz\n",
    "\n",
    "```\n",
    ">Output\n",
    "Tekrar Eden Elemanlar: [10, 10, 15, 15, 15, 20, 20, 20, 20]\n",
    "Tekrar Etmeyen Elemanlar: [5]\n",
    "```"
   ]
  },
  {
   "cell_type": "code",
   "execution_count": 7,
   "metadata": {},
   "outputs": [
    {
     "name": "stdout",
     "output_type": "stream",
     "text": [
      "Tekrar eden elemanlar listesi [10, 10, 15, 15, 15, 20, 20, 20, 20]\n",
      "Tekrar etmeyen elemanlar [5]\n"
     ]
    }
   ],
   "source": [
    "numbers = [5,10,10,15,15,15,20,20,20,20]\n",
    "\n",
    "repeat = []\n",
    "unique = []\n",
    "\n",
    "for number in numbers:\n",
    "    if numbers.count(number) == 1:\n",
    "        unique.append(number)\n",
    "    else:\n",
    "        repeat.append(number)\n",
    "print(\"Tekrar eden elemanlar listesi\", repeat)\n",
    "print(\"Tekrar etmeyen elemanlar\", unique)\n"
   ]
  },
  {
   "cell_type": "code",
   "execution_count": 35,
   "metadata": {},
   "outputs": [
    {
     "name": "stdout",
     "output_type": "stream",
     "text": [
      "[5, 10, 10, 15, 15, 15, 20, 20, 20, 20]\n",
      "[5]\n"
     ]
    }
   ],
   "source": [
    "numbers = [5,10,10,15,15,15,20,20,20,20]\n",
    "\n",
    "\n",
    "repeatNumbers = []\n",
    "uniqueNumbers = []\n",
    "\n",
    "x = 0\n",
    "while x < 21:\n",
    "    \n",
    "    for x in numbers: \n",
    "        if x in numbers:\n",
    "            repeatNumbers.append(x)\n",
    "        \n",
    "        if numbers.count(x) == 1:\n",
    "\n",
    "            uniqueNumbers.append(x)\n",
    "  \n",
    "   \n",
    "    x += 1\n",
    "\n",
    "\n",
    "\n",
    "\n",
    "     \n",
    "\n",
    "print(repeatNumbers)\n",
    "print(uniqueNumbers)\n",
    "\n"
   ]
  },
  {
   "cell_type": "markdown",
   "metadata": {},
   "source": [
    "# Problem 3\n",
    "sn1 = {1,2,3,4,5}\n",
    "\n",
    "sn2 = {4,5,6,7,8}\n",
    "\n",
    " Verilen 2 adet küme için kesişimlerini, farklarını ve birleşimlerini bulunuz. "
   ]
  },
  {
   "cell_type": "code",
   "execution_count": 12,
   "metadata": {},
   "outputs": [
    {
     "name": "stdout",
     "output_type": "stream",
     "text": [
      "{4, 5}\n",
      "------\n",
      "{1, 2, 3}\n",
      "------\n",
      "{4, 5, 6, 7, 8}\n",
      "------\n",
      "{1, 2, 3, 4, 5, 6, 7, 8}\n"
     ]
    }
   ],
   "source": [
    "sn1 = {1,2,3,4,5}\n",
    "\n",
    "sn2 = {4,5,6,7,8}\n",
    "\n",
    "kesisim = sn1.intersection(sn2)\n",
    "print(kesisim)\n",
    "\n",
    "print(\"------\")\n",
    "\n",
    "fark1 = sn1.difference_update(sn2) #difference_update kumeyi guncelliyor\n",
    "print(sn1)  #update oldugu icin birinci kume onu print etmen gerekiyor\n",
    "\n",
    "print(\"------\")\n",
    "\n",
    "fark2 = sn2.difference_update(sn1) #calismadi cunku ayni kod blogunda birinci kume guncellendi o yuzden sn1 ve sn2 her elemani farkli olan kumelere donustuler, yeni kod blogune yazsan calisir\n",
    "\n",
    "print(sn2)\n",
    "\n",
    "print(\"------\")\n",
    "\n",
    "birlesim = sn1.update(sn2) #iki kumeyi birlestrimek icin\n",
    "print(sn1)\n"
   ]
  },
  {
   "cell_type": "code",
   "execution_count": 29,
   "metadata": {},
   "outputs": [
    {
     "name": "stdout",
     "output_type": "stream",
     "text": [
      "{4, 5}\n",
      "{1, 2, 3}\n",
      "{1, 2, 3, 4, 5, 6, 7, 8}\n",
      "------\n",
      "{4, 5}\n",
      "{8, 6, 7}\n",
      "{1, 2, 3, 4, 5, 6, 7, 8}\n"
     ]
    }
   ],
   "source": [
    "sn1 = {1,2,3,4,5}\n",
    "\n",
    "sn2 = {4,5,6,7,8}\n",
    "\n",
    "print(sn1.intersection(sn2))\n",
    "print(sn1.difference(sn2))\n",
    "print(sn1.union(sn2))\n",
    "print(\"------\")\n",
    "print(sn2.intersection(sn1))\n",
    "print(sn2.difference(sn1))\n",
    "print(sn2.union(sn1))"
   ]
  },
  {
   "cell_type": "markdown",
   "metadata": {},
   "source": [
    "# Problem 4\n",
    "\n",
    "Buradaki işlemlerimizin tamamı stringler içindir. Aşağıda verilecek olan metodlar için kendinizin örnek yaratması gerekmektedir. \n",
    "\n",
    "Örneğin `upper` için `string` değişkeni oluştururken` k = \"BAC\"` şeklinde oluşturmayınız. Bunun yerine k değişkenini `k = \"bac`\" şeklinde oluşturmanız `upper` metodundaki değişimi görebilmeniz için daha iyi olacaktır.\n",
    "\n",
    "Bütün metodlardaki değişimin gözle görülür şekilde değişimi beklenmektedir.\n",
    "\n",
    "\n",
    "1- capitalize(), lower(), upper(), swapcase(), title(), replace()\n",
    "\n",
    "2- endswith(), startswith(), find(), index(), count()\n",
    "\n",
    "3- split(), strip(), join(), islower(), isalpha(), isdigit()\n",
    "\n",
    "\n",
    "Yukarıdaki `string` metodlarındaki değişimleri görebildiğimiz bir program yazınız.\n"
   ]
  },
  {
   "cell_type": "code",
   "execution_count": 21,
   "metadata": {},
   "outputs": [
    {
     "name": "stdout",
     "output_type": "stream",
     "text": [
      "YetGen Core Ile Python Ogreniyorum\n",
      "Bas harfi buyuk hali:  Yetgen core ile python ogreniyorum\n",
      "Butun harfleri kucuk hali:  yetgen core ile python ogreniyorum\n",
      "Butun harfleri buyuk hali:  YETGEN CORE ILE PYTHON OGRENIYORUM\n",
      "Buyuk harfleri kucuk harflerle degismis hali:  yETgEN cORE iLE pYTHON oGRENIYORUM\n",
      "her kelimenin ilk harfi buyuk yazilmis hali:  Yetgen Core Ile Python Ogreniyorum\n",
      "Butun a harfleri e harfiyle degistirilmis hali:  YatGan Cora Ila Python Ograniyorum\n",
      "------\n",
      "Ogreniyorum ile mi bitiyor?:  True\n",
      "bosluk ile mi basliyor?:  False\n",
      "Pyhton kelimesi var mi? Varsa kacinci indexte?:  16\n",
      "Y harfleri var mi? Varsa kacinci indexte?:  7\n",
      "Stringde kac tan h harfi var:  1\n",
      "------\n",
      "Bosluklardan itibaren kelimeleri ayir:  ['YetGen', 'Core', 'Ile', 'Python', 'Ogreniyorum']\n",
      "Bastaki ve sondaki bosluklar silindi: YetGen Core Ile Python Ogreniyorum\n",
      "Stringleri birlestir:  YetGen#Core#Ile#Python#Ogreniyorum\n",
      "stringin tum karakterleri kucuk harfle mi yazilmis?:  False\n",
      "stringin tum karakterleri alfabetik sirayla mi yazilmis?:  False\n",
      "string bir sayi mi?:  False\n"
     ]
    }
   ],
   "source": [
    "ornek =  \"YetGen Core Ile Python Ogreniyorum\"\n",
    "print(ornek)\n",
    "ornek1 = ornek.capitalize()\n",
    "print(\"Bas harfi buyuk hali: \", ornek1)\n",
    "ornek2 = ornek.lower()\n",
    "print(\"Butun harfleri kucuk hali: \", ornek2)\n",
    "ornek3 = ornek.upper()\n",
    "print(\"Butun harfleri buyuk hali: \", ornek3)\n",
    "ornek4 = ornek.swapcase()\n",
    "print(\"Buyuk harfleri kucuk harflerle degismis hali: \", ornek4)\n",
    "ornek5 = ornek.title()\n",
    "print(\"her kelimenin ilk harfi buyuk yazilmis hali: \", ornek5)\n",
    "ornek6 = ornek.replace(\"e\", \"a\")\n",
    "print(\"Butun a harfleri e harfiyle degistirilmis hali: \", ornek6)\n",
    "print(\"------\")\n",
    "ornek7 = ornek.endswith(\"Ogreniyorum\") \n",
    "print(\"Ogreniyorum ile mi bitiyor?: \", ornek7)\n",
    "ornek8 = ornek.startswith(\" \")\n",
    "print(\"bosluk ile mi basliyor?: \", ornek8)\n",
    "ornek9 = ornek.find(\"Python\")\n",
    "print(\"Pyhton kelimesi var mi? Varsa kacinci indexte?: \", ornek9)\n",
    "ornek10 = ornek.index(\"Core\", 5, 12)\n",
    "print(\"Y harfleri var mi? Varsa kacinci indexte?: \", ornek10)\n",
    "ornek11 = ornek.count(\"h\")\n",
    "print(\"Stringde kac tan h harfi var: \", ornek11)\n",
    "print(\"------\")\n",
    "ornek12 = ornek.split(\" \")\n",
    "print(\"Bosluklardan itibaren kelimeleri ayir: \", ornek12)\n",
    "ornek13 = ornek.strip()\n",
    "print(\"Bastaki ve sondaki bosluklar silindi:\", ornek13)\n",
    "ornek14 = (\"YetGen\", \"Core\", \"Ile\", \"Python\", \"Ogreniyorum\")\n",
    "print(\"Stringleri birlestir: \", \"#\".join(ornek14)) #join ozel bi durum, arada kullanicagimiz seyi .join in basina yaziyoruz\n",
    "ornek15 = ornek.islower()\n",
    "print(\"stringin tum karakterleri kucuk harfle mi yazilmis?: \", ornek15)\n",
    "ornek16 = ornek.isalpha() #bosluklar harf sayilmadigi icin false, yoksa hepsi harf oldugu icin true donmeli\n",
    "print(\"stringin tum karakterleri alfabetik sirayla mi yazilmis?: \", ornek16)\n",
    "ornek17 = ornek.isdigit()\n",
    "print(\"string bir sayi mi?: \", ornek17)\n"
   ]
  }
 ],
 "metadata": {
  "kernelspec": {
   "display_name": "Python 3.10.5 64-bit",
   "language": "python",
   "name": "python3"
  },
  "language_info": {
   "codemirror_mode": {
    "name": "ipython",
    "version": 3
   },
   "file_extension": ".py",
   "mimetype": "text/x-python",
   "name": "python",
   "nbconvert_exporter": "python",
   "pygments_lexer": "ipython3",
   "version": "3.11.1"
  },
  "orig_nbformat": 4,
  "vscode": {
   "interpreter": {
    "hash": "5026d2d6e7aaaaba093def813beadff083d8733e4a511af01735cbabd156995d"
   }
  }
 },
 "nbformat": 4,
 "nbformat_minor": 2
}
